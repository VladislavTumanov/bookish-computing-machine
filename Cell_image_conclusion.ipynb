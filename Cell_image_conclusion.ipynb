{
  "cells": [
    {
      "cell_type": "markdown",
      "metadata": {
        "id": "view-in-github",
        "colab_type": "text"
      },
      "source": [
        "<a href=\"https://colab.research.google.com/github/VladislavTumanov/bookish-computing-machine/blob/main/Cell_image_conclusion.ipynb\" target=\"_parent\"><img src=\"https://colab.research.google.com/assets/colab-badge.svg\" alt=\"Open In Colab\"/></a>"
      ]
    },
    {
      "cell_type": "code",
      "execution_count": null,
      "metadata": {
        "id": "aly8EJC7Sew5"
      },
      "outputs": [],
      "source": [
        "import numpy as np\n",
        "import tensorflow as tf\n",
        "import os\n",
        "import matplotlib.pyplot as plt\n",
        "from tensorflow import keras\n",
        "from tensorflow.keras.layers import Dense, Flatten, Dropout, Conv2D, MaxPooling2D, GRU, SimpleRNN, Input, Embedding\n",
        "from tensorflow.keras.datasets import mnist\n",
        "from tensorflow.keras.preprocessing.text import Tokenizer, text_to_word_sequence\n",
        "from tensorflow.keras.callbacks import EarlyStopping\n",
        "from tensorflow.keras.optimizers import Adam\n",
        "from tensorflow.keras.models import Sequential\n",
        "from tensorflow.keras.preprocessing.image import ImageDataGenerator\n",
        "import re"
      ]
    },
    {
      "cell_type": "code",
      "source": [
        "import math\n",
        "\n",
        "n, s = map(int, input().split())\n",
        "scores = []\n",
        "for i in range(n):\n",
        "    l, r = map(int, input().split())\n",
        "    scores.append((l+r)//2)\n",
        "\n",
        "scores.sort()\n",
        "prefix_sum = [0]\n",
        "for i in range(n):\n",
        "    prefix_sum.append(prefix_sum[-1] + scores[i])\n",
        "\n",
        "max_median = 0\n",
        "for i in range(n):\n",
        "    left = i+1\n",
        "    right = n\n",
        "    while left <= right:\n",
        "        mid = (left+right)//2\n",
        "        total_points = prefix_sum[mid] - prefix_sum[i]\n",
        "        if total_points + scores[i]*(mid-i) <= s:\n",
        "            max_median = max(max_median, scores[mid-1])\n",
        "            left = mid+1\n",
        "        else:\n",
        "            right = mid-1\n",
        "\n",
        "print(max_median)\n"
      ],
      "metadata": {
        "colab": {
          "base_uri": "https://localhost:8080/"
        },
        "id": "5rz1IAZDboV_",
        "outputId": "2653dfa2-92e5-47c9-e93b-c87086d86123"
      },
      "execution_count": null,
      "outputs": [
        {
          "output_type": "stream",
          "name": "stdout",
          "text": [
            "3 27\n",
            "11 14\n",
            "2 10\n",
            "11 14\n",
            "12\n"
          ]
        }
      ]
    },
    {
      "cell_type": "code",
      "source": [
        "n = int(input())\n",
        "a = list(map(int, input().split()))\n",
        "for l in range(n, 1, -1):\n",
        "    count = {}\n",
        "    count_count = {}\n",
        "    max_count = 0\n",
        "    for i in range(l):\n",
        "        count[a[i]] = count.get(a[i], 0) + 1\n",
        "        count_count[count[a[i]]] = count_count.get(count[a[i]], 0) + 1\n",
        "        max_count = max(max_count, count[a[i]])\n",
        "    if len(count_count) <= 2 and (len(count_count) == 1 or (len(count_count) == 2 and count_count[max_count] == 1 and count_count[max_count-1] == len(count_count)-1)):\n",
        "        print(l)\n",
        "        break\n",
        "else:\n",
        "    print(2)\n"
      ],
      "metadata": {
        "colab": {
          "base_uri": "https://localhost:8080/"
        },
        "id": "GmJUPrTRGP3t",
        "outputId": "486b4a58-35a8-4f78-be58-132834baac02"
      },
      "execution_count": null,
      "outputs": [
        {
          "output_type": "stream",
          "name": "stdout",
          "text": [
            "10\n",
            "1 2 4 2 3 1 3 9 15 23\n",
            "3\n"
          ]
        }
      ]
    },
    {
      "cell_type": "code",
      "source": [
        "n = int(input())\n",
        "a = list(map(int, input().split()))\n",
        "\n",
        "for l in range(n, 1, -1):\n",
        "    count = {}\n",
        "    count_count = {}\n",
        "    max_count = 0\n",
        "    for i in range(l):\n",
        "        count[a[i]] = count.get(a[i], 0) + 1\n",
        "        count_count[count[a[i]]] = count_count.get(count[a[i]], 0) + 1\n",
        "        max_count = max(max_count, count[a[i]])\n",
        "    if len(count_count) <= 2 and (len(count_count) == 1 or (len(count_count) == 2 and count_count[max_count] == 1 and count_count[max_count-1] == len(count_count)-1)):\n",
        "        print(l)\n",
        "        break\n",
        "else:\n",
        "    print(2)\n",
        "\n"
      ],
      "metadata": {
        "colab": {
          "base_uri": "https://localhost:8080/"
        },
        "id": "WGzsDhHPWMH-",
        "outputId": "1be537f3-2850-438b-c9b9-5e85349ca6a5"
      },
      "execution_count": null,
      "outputs": [
        {
          "output_type": "stream",
          "name": "stdout",
          "text": [
            "10\n",
            "1 2 4 2 3 1 3 9 15 23\n",
            "3\n"
          ]
        }
      ]
    },
    {
      "cell_type": "code",
      "source": [
        "1 2 4 2 3 1 3 9 15 23n = 5\n",
        "a = [1, 2, 3, 4, 5]\n",
        "\n",
        "for l in range(2, n+1):\n",
        "    count = {}\n",
        "    max_count = 0\n",
        "    for i in range(l):\n",
        "        count[a[i]] = count.get(a[i], 0) + 1\n",
        "        max_count = max(max_count, count[a[i]])\n",
        "    if len(count) == max_count + 1:\n",
        "        print(l)\n",
        "        break\n",
        "else:\n",
        "  print(2)\n"
      ],
      "metadata": {
        "colab": {
          "base_uri": "https://localhost:8080/"
        },
        "id": "fdzi90iW9hhV",
        "outputId": "1759d7da-6413-497a-950d-50cdd511ff4d"
      },
      "execution_count": null,
      "outputs": [
        {
          "output_type": "stream",
          "name": "stdout",
          "text": [
            "2\n"
          ]
        }
      ]
    },
    {
      "cell_type": "code",
      "source": [
        "n = int(input())\n",
        "s = input()\n",
        "\n",
        "# Словарь, где ключами являются символы, а значениями - индексы последнего вхождения этого символа в строку s.\n",
        "last_occurrence = {'a': -1, 'b': -1, 'c': -1, 'd': -1}\n",
        "\n",
        "# Переменная для хранения длины текущей хорошей подстроки.\n",
        "current_len = float('inf')\n",
        "\n",
        "# Переменные-указатели на начало и конец текущей хорошей подстроки.\n",
        "start = 0\n",
        "end = -1\n",
        "\n",
        "for i, char in enumerate(s):\n",
        "    last_occurrence[char] = i\n",
        "    # Если все символы уже встречались в строке, идем к следующему началу подстроки.\n",
        "    if min(last_occurrence.values()) > -1:\n",
        "        # Ищем новое начало подстроки.\n",
        "        min_last_occurrence = min(last_occurrence.values())\n",
        "        if i - min_last_occurrence < current_len:\n",
        "            current_len = i - min_last_occurrence\n",
        "            start = min_last_occurrence + 1  # Увеличиваем start на единицу.\n",
        "            end = i\n",
        "    # Если после обработки текущего символа не все символы встречались в строке,\n",
        "    # то продолжаем двигать указатель end до тех пор, пока все символы не будут найдены,\n",
        "    # или до конца строки.\n",
        "    elif i == len(s) - 1:\n",
        "        current_len = -1\n",
        "    else:\n",
        "        continue\n",
        "\n",
        "if current_len == float('inf'):\n",
        "    current_len = -1\n",
        "\n",
        "if current_len != -1:\n",
        "  print(current_len+1)\n",
        "\n",
        "else:\n",
        "  print\n"
      ],
      "metadata": {
        "colab": {
          "base_uri": "https://localhost:8080/"
        },
        "id": "HaNv5eC42AM9",
        "outputId": "437ca802-99a8-462d-ef00-e1b1f96f4f99"
      },
      "execution_count": null,
      "outputs": [
        {
          "output_type": "stream",
          "name": "stdout",
          "text": [
            "7\n",
            "dbbccca\n",
            "7\n"
          ]
        }
      ]
    },
    {
      "cell_type": "code",
      "source": [
        "n = int(input())\n",
        "a = list(map(int, input().split()))\n",
        "\n",
        "\n",
        "freq = {}\n",
        "freq_count = {}\n",
        "\n",
        "for i in range(n):\n",
        "    freq[a[i]] = freq.get(a[i], 0) + 1\n",
        "    freq_count[freq[a[i]]] = freq_count.get(freq[a[i]], 0) + 1\n",
        "\n",
        "if len(freq_count) <= 2:\n",
        "    print(n)\n",
        "else:\n",
        "    for l in range(n-1, 1, -1):\n",
        "        freq[a[l]] -= 1\n",
        "        if freq[a[l]] == 0:\n",
        "            del freq[a[l]]\n",
        "        freq_count[freq[a[l-1]]] -= 1\n",
        "        if freq_count[freq[a[l-1]]] == 0:\n",
        "            del freq_count[freq[a[l-1]]]\n",
        "        if len(freq_count) <= 2 and (len(freq_count) == 1 or (len(freq_count) == 2 and 1 in freq_count.values())):\n",
        "            print(l)\n",
        "            break\n",
        "    else:\n",
        "        print(2)\n"
      ],
      "metadata": {
        "colab": {
          "base_uri": "https://localhost:8080/"
        },
        "id": "jQWf8OYqf4z0",
        "outputId": "47c26bb2-791f-4f9a-bc56-908a6fc429ea"
      },
      "execution_count": null,
      "outputs": [
        {
          "output_type": "stream",
          "name": "stdout",
          "text": [
            "13\n",
            "1 2 3 1 2 2 3 3 3 1 4 4 5\n",
            "5\n"
          ]
        }
      ]
    },
    {
      "cell_type": "code",
      "source": [
        "n = int(input())\n",
        "a = list(map(int, input().split()))\n",
        "\n",
        "prefix_sum = [0] * (n+1)\n",
        "for i in range(n):\n",
        "    prefix_sum[i+1] = prefix_sum[i] + a[i]\n",
        "\n",
        "count = 0\n",
        "sums = {}\n",
        "\n",
        "for j in range(n+1):\n",
        "    if prefix_sum[j] == 0:\n",
        "        count += 1\n",
        "    if prefix_sum[j] in sums:\n",
        "        count += len(sums[prefix_sum[j]])\n",
        "        sums[prefix_sum[j]].append(j)\n",
        "    else:\n",
        "        sums[prefix_sum[j]] = [j]\n",
        "\n",
        "print(count)\n",
        "# 42 -42 42"
      ],
      "metadata": {
        "colab": {
          "base_uri": "https://localhost:8080/"
        },
        "id": "T_3Xwwp8kmoW",
        "outputId": "c811d8bb-339b-4272-a9cf-035f659759f9"
      },
      "execution_count": null,
      "outputs": [
        {
          "output_type": "stream",
          "name": "stdout",
          "text": [
            "4\n",
            "1 2 3 -6\n",
            "3\n"
          ]
        }
      ]
    },
    {
      "cell_type": "code",
      "source": [
        "n = int(input())\n",
        "a = list(map(int, input().split()))\n",
        "\n",
        "prefix_sum = [0] * (n+1)\n",
        "for i in range(n):\n",
        "    prefix_sum[i+1] = prefix_sum[i] + a[i]\n",
        "\n",
        "count = 0\n",
        "sums = {}\n",
        "\n",
        "for j in range(n+1):\n",
        "    if prefix_sum[j] == 0:\n",
        "        count += 1\n",
        "    if prefix_sum[j] in sums:\n",
        "        count += len(sums[prefix_sum[j]])\n",
        "        sums[prefix_sum[j]].append(j)\n",
        "    else:\n",
        "        sums[prefix_sum[j]] = [j]\n",
        "\n",
        "normal_count = 0\n",
        "\n",
        "for i in range(n):\n",
        "    for j in range(i, n):\n",
        "        s = prefix_sum[j+1] - prefix_sum[i]\n",
        "        if s in sums and any(l > i for l in sums[s]):\n",
        "            normal_count += 1\n",
        "            break\n",
        "\n",
        "print(normal_count)"
      ],
      "metadata": {
        "colab": {
          "base_uri": "https://localhost:8080/"
        },
        "id": "Ok7IWTHKiApS",
        "outputId": "9fce3c06-7bca-4d25-d909-a32d0d49d147"
      },
      "execution_count": null,
      "outputs": [
        {
          "output_type": "stream",
          "name": "stdout",
          "text": [
            "3\n",
            "42 -42 42\n",
            "3\n"
          ]
        }
      ]
    },
    {
      "cell_type": "code",
      "source": [
        "n = int(input())\n",
        "a = list(map(int, input().split()))\n",
        "ans = 1\n",
        "count = 1\n",
        "\n",
        "for i in range(n-1):\n",
        "    if a[i] == a[i+1]:\n",
        "        count += 1\n",
        "    else:\n",
        "        ans = max(ans, count)\n",
        "        count = 1\n",
        "\n",
        "ans = max(ans, count)\n",
        "\n",
        "if set(a) == {0}:\n",
        "    print(n)\n",
        "elif set(a) == {1}:\n",
        "    print(n)\n",
        "else:\n",
        "    print(ans)"
      ],
      "metadata": {
        "colab": {
          "base_uri": "https://localhost:8080/"
        },
        "id": "h1Vo4XSUoBq3",
        "outputId": "ea05f702-6712-4faa-fe10-66da3a693d11"
      },
      "execution_count": null,
      "outputs": [
        {
          "output_type": "stream",
          "name": "stdout",
          "text": [
            "13\n",
            "1 2 3 1 2 2 3 3 3 1 4 4 5\n",
            "3\n"
          ]
        }
      ]
    },
    {
      "cell_type": "code",
      "execution_count": null,
      "metadata": {
        "id": "P50djs9qb_xX",
        "colab": {
          "base_uri": "https://localhost:8080/",
          "height": 606
        },
        "outputId": "0da36238-0ded-46c3-dfcf-2b36cf31c9c3"
      },
      "outputs": [
        {
          "output_type": "stream",
          "name": "stdout",
          "text": [
            "Looking in indexes: https://pypi.org/simple, https://us-python.pkg.dev/colab-wheels/public/simple/\n",
            "Requirement already satisfied: kaggle in /usr/local/lib/python3.8/dist-packages (1.5.12)\n",
            "Requirement already satisfied: python-slugify in /usr/local/lib/python3.8/dist-packages (from kaggle) (8.0.1)\n",
            "Requirement already satisfied: requests in /usr/local/lib/python3.8/dist-packages (from kaggle) (2.25.1)\n",
            "Requirement already satisfied: tqdm in /usr/local/lib/python3.8/dist-packages (from kaggle) (4.64.1)\n",
            "Requirement already satisfied: certifi in /usr/local/lib/python3.8/dist-packages (from kaggle) (2022.12.7)\n",
            "Requirement already satisfied: six>=1.10 in /usr/local/lib/python3.8/dist-packages (from kaggle) (1.15.0)\n",
            "Requirement already satisfied: urllib3 in /usr/local/lib/python3.8/dist-packages (from kaggle) (1.26.14)\n",
            "Requirement already satisfied: python-dateutil in /usr/local/lib/python3.8/dist-packages (from kaggle) (2.8.2)\n",
            "Requirement already satisfied: text-unidecode>=1.3 in /usr/local/lib/python3.8/dist-packages (from python-slugify->kaggle) (1.3)\n",
            "Requirement already satisfied: idna<3,>=2.5 in /usr/local/lib/python3.8/dist-packages (from requests->kaggle) (2.10)\n",
            "Requirement already satisfied: chardet<5,>=3.0.2 in /usr/local/lib/python3.8/dist-packages (from requests->kaggle) (4.0.0)\n"
          ]
        },
        {
          "output_type": "error",
          "ename": "KeyboardInterrupt",
          "evalue": "ignored",
          "traceback": [
            "\u001b[0;31m---------------------------------------------------------------------------\u001b[0m",
            "\u001b[0;31mKeyboardInterrupt\u001b[0m                         Traceback (most recent call last)",
            "\u001b[0;32m<ipython-input-66-1309fa465474>\u001b[0m in \u001b[0;36m<module>\u001b[0;34m\u001b[0m\n\u001b[1;32m      1\u001b[0m \u001b[0mget_ipython\u001b[0m\u001b[0;34m(\u001b[0m\u001b[0;34m)\u001b[0m\u001b[0;34m.\u001b[0m\u001b[0msystem\u001b[0m\u001b[0;34m(\u001b[0m\u001b[0;34m' pip install kaggle'\u001b[0m\u001b[0;34m)\u001b[0m\u001b[0;34m\u001b[0m\u001b[0;34m\u001b[0m\u001b[0m\n\u001b[0;32m----> 2\u001b[0;31m \u001b[0mget_ipython\u001b[0m\u001b[0;34m(\u001b[0m\u001b[0;34m)\u001b[0m\u001b[0;34m.\u001b[0m\u001b[0msystem\u001b[0m\u001b[0;34m(\u001b[0m\u001b[0;34m' mkdir ~/.kaggle'\u001b[0m\u001b[0;34m)\u001b[0m\u001b[0;34m\u001b[0m\u001b[0;34m\u001b[0m\u001b[0m\n\u001b[0m\u001b[1;32m      3\u001b[0m \u001b[0mget_ipython\u001b[0m\u001b[0;34m(\u001b[0m\u001b[0;34m)\u001b[0m\u001b[0;34m.\u001b[0m\u001b[0msystem\u001b[0m\u001b[0;34m(\u001b[0m\u001b[0;34m' cp kaggle.json ~/.kaggle/'\u001b[0m\u001b[0;34m)\u001b[0m\u001b[0;34m\u001b[0m\u001b[0;34m\u001b[0m\u001b[0m\n\u001b[1;32m      4\u001b[0m \u001b[0mget_ipython\u001b[0m\u001b[0;34m(\u001b[0m\u001b[0;34m)\u001b[0m\u001b[0;34m.\u001b[0m\u001b[0msystem\u001b[0m\u001b[0;34m(\u001b[0m\u001b[0;34m' chmod 600 ~/.kaggle/kaggle.json'\u001b[0m\u001b[0;34m)\u001b[0m\u001b[0;34m\u001b[0m\u001b[0;34m\u001b[0m\u001b[0m\n\u001b[1;32m      5\u001b[0m \u001b[0mget_ipython\u001b[0m\u001b[0;34m(\u001b[0m\u001b[0;34m)\u001b[0m\u001b[0;34m.\u001b[0m\u001b[0msystem\u001b[0m\u001b[0;34m(\u001b[0m\u001b[0;34m' kaggle datasets download -d iarunava/cell-images-for-detecting-malaria'\u001b[0m\u001b[0;34m)\u001b[0m\u001b[0;34m\u001b[0m\u001b[0;34m\u001b[0m\u001b[0m\n",
            "\u001b[0;32m/usr/local/lib/python3.8/dist-packages/google/colab/_shell.py\u001b[0m in \u001b[0;36msystem\u001b[0;34m(self, *args, **kwargs)\u001b[0m\n\u001b[1;32m     93\u001b[0m       \u001b[0mkwargs\u001b[0m\u001b[0;34m.\u001b[0m\u001b[0mupdate\u001b[0m\u001b[0;34m(\u001b[0m\u001b[0;34m{\u001b[0m\u001b[0;34m'also_return_output'\u001b[0m\u001b[0;34m:\u001b[0m \u001b[0;32mTrue\u001b[0m\u001b[0;34m}\u001b[0m\u001b[0;34m)\u001b[0m\u001b[0;34m\u001b[0m\u001b[0;34m\u001b[0m\u001b[0m\n\u001b[1;32m     94\u001b[0m \u001b[0;34m\u001b[0m\u001b[0m\n\u001b[0;32m---> 95\u001b[0;31m     \u001b[0moutput\u001b[0m \u001b[0;34m=\u001b[0m \u001b[0m_system_commands\u001b[0m\u001b[0;34m.\u001b[0m\u001b[0m_system_compat\u001b[0m\u001b[0;34m(\u001b[0m\u001b[0mself\u001b[0m\u001b[0;34m,\u001b[0m \u001b[0;34m*\u001b[0m\u001b[0margs\u001b[0m\u001b[0;34m,\u001b[0m \u001b[0;34m**\u001b[0m\u001b[0mkwargs\u001b[0m\u001b[0;34m)\u001b[0m  \u001b[0;31m# pylint:disable=protected-access\u001b[0m\u001b[0;34m\u001b[0m\u001b[0;34m\u001b[0m\u001b[0m\n\u001b[0m\u001b[1;32m     96\u001b[0m \u001b[0;34m\u001b[0m\u001b[0m\n\u001b[1;32m     97\u001b[0m     \u001b[0;32mif\u001b[0m \u001b[0mpip_warn\u001b[0m\u001b[0;34m:\u001b[0m\u001b[0;34m\u001b[0m\u001b[0;34m\u001b[0m\u001b[0m\n",
            "\u001b[0;32m/usr/local/lib/python3.8/dist-packages/google/colab/_system_commands.py\u001b[0m in \u001b[0;36m_system_compat\u001b[0;34m(shell, cmd, also_return_output)\u001b[0m\n\u001b[1;32m    434\u001b[0m   \u001b[0;31m# is expected to call this function, thus adding one level of nesting to the\u001b[0m\u001b[0;34m\u001b[0m\u001b[0;34m\u001b[0m\u001b[0;34m\u001b[0m\u001b[0m\n\u001b[1;32m    435\u001b[0m   \u001b[0;31m# stack.\u001b[0m\u001b[0;34m\u001b[0m\u001b[0;34m\u001b[0m\u001b[0;34m\u001b[0m\u001b[0m\n\u001b[0;32m--> 436\u001b[0;31m   result = _run_command(\n\u001b[0m\u001b[1;32m    437\u001b[0m       shell.var_expand(cmd, depth=2), clear_streamed_output=False)\n\u001b[1;32m    438\u001b[0m   \u001b[0mshell\u001b[0m\u001b[0;34m.\u001b[0m\u001b[0muser_ns\u001b[0m\u001b[0;34m[\u001b[0m\u001b[0;34m'_exit_code'\u001b[0m\u001b[0;34m]\u001b[0m \u001b[0;34m=\u001b[0m \u001b[0mresult\u001b[0m\u001b[0;34m.\u001b[0m\u001b[0mreturncode\u001b[0m\u001b[0;34m\u001b[0m\u001b[0;34m\u001b[0m\u001b[0m\n",
            "\u001b[0;32m/usr/local/lib/python3.8/dist-packages/google/colab/_system_commands.py\u001b[0m in \u001b[0;36m_run_command\u001b[0;34m(cmd, clear_streamed_output)\u001b[0m\n\u001b[1;32m    182\u001b[0m       \u001b[0;31m# TODO(b/115531839): Ensure that subprocesses are terminated upon\u001b[0m\u001b[0;34m\u001b[0m\u001b[0;34m\u001b[0m\u001b[0;34m\u001b[0m\u001b[0m\n\u001b[1;32m    183\u001b[0m       \u001b[0;31m# interrupt.\u001b[0m\u001b[0;34m\u001b[0m\u001b[0;34m\u001b[0m\u001b[0;34m\u001b[0m\u001b[0m\n\u001b[0;32m--> 184\u001b[0;31m       p = subprocess.Popen(\n\u001b[0m\u001b[1;32m    185\u001b[0m           \u001b[0mcmd\u001b[0m\u001b[0;34m,\u001b[0m\u001b[0;34m\u001b[0m\u001b[0;34m\u001b[0m\u001b[0m\n\u001b[1;32m    186\u001b[0m           \u001b[0mshell\u001b[0m\u001b[0;34m=\u001b[0m\u001b[0;32mTrue\u001b[0m\u001b[0;34m,\u001b[0m\u001b[0;34m\u001b[0m\u001b[0;34m\u001b[0m\u001b[0m\n",
            "\u001b[0;32m/usr/lib/python3.8/subprocess.py\u001b[0m in \u001b[0;36m__init__\u001b[0;34m(self, args, bufsize, executable, stdin, stdout, stderr, preexec_fn, close_fds, shell, cwd, env, universal_newlines, startupinfo, creationflags, restore_signals, start_new_session, pass_fds, encoding, errors, text)\u001b[0m\n\u001b[1;32m    856\u001b[0m                             encoding=encoding, errors=errors)\n\u001b[1;32m    857\u001b[0m \u001b[0;34m\u001b[0m\u001b[0m\n\u001b[0;32m--> 858\u001b[0;31m             self._execute_child(args, executable, preexec_fn, close_fds,\n\u001b[0m\u001b[1;32m    859\u001b[0m                                 \u001b[0mpass_fds\u001b[0m\u001b[0;34m,\u001b[0m \u001b[0mcwd\u001b[0m\u001b[0;34m,\u001b[0m \u001b[0menv\u001b[0m\u001b[0;34m,\u001b[0m\u001b[0;34m\u001b[0m\u001b[0;34m\u001b[0m\u001b[0m\n\u001b[1;32m    860\u001b[0m                                 \u001b[0mstartupinfo\u001b[0m\u001b[0;34m,\u001b[0m \u001b[0mcreationflags\u001b[0m\u001b[0;34m,\u001b[0m \u001b[0mshell\u001b[0m\u001b[0;34m,\u001b[0m\u001b[0;34m\u001b[0m\u001b[0;34m\u001b[0m\u001b[0m\n",
            "\u001b[0;32m/usr/lib/python3.8/subprocess.py\u001b[0m in \u001b[0;36m_execute_child\u001b[0;34m(self, args, executable, preexec_fn, close_fds, pass_fds, cwd, env, startupinfo, creationflags, shell, p2cread, p2cwrite, c2pread, c2pwrite, errread, errwrite, restore_signals, start_new_session)\u001b[0m\n\u001b[1;32m   1637\u001b[0m                     \u001b[0mfds_to_keep\u001b[0m \u001b[0;34m=\u001b[0m \u001b[0mset\u001b[0m\u001b[0;34m(\u001b[0m\u001b[0mpass_fds\u001b[0m\u001b[0;34m)\u001b[0m\u001b[0;34m\u001b[0m\u001b[0;34m\u001b[0m\u001b[0m\n\u001b[1;32m   1638\u001b[0m                     \u001b[0mfds_to_keep\u001b[0m\u001b[0;34m.\u001b[0m\u001b[0madd\u001b[0m\u001b[0;34m(\u001b[0m\u001b[0merrpipe_write\u001b[0m\u001b[0;34m)\u001b[0m\u001b[0;34m\u001b[0m\u001b[0;34m\u001b[0m\u001b[0m\n\u001b[0;32m-> 1639\u001b[0;31m                     self.pid = _posixsubprocess.fork_exec(\n\u001b[0m\u001b[1;32m   1640\u001b[0m                             \u001b[0margs\u001b[0m\u001b[0;34m,\u001b[0m \u001b[0mexecutable_list\u001b[0m\u001b[0;34m,\u001b[0m\u001b[0;34m\u001b[0m\u001b[0;34m\u001b[0m\u001b[0m\n\u001b[1;32m   1641\u001b[0m                             \u001b[0mclose_fds\u001b[0m\u001b[0;34m,\u001b[0m \u001b[0mtuple\u001b[0m\u001b[0;34m(\u001b[0m\u001b[0msorted\u001b[0m\u001b[0;34m(\u001b[0m\u001b[0mmap\u001b[0m\u001b[0;34m(\u001b[0m\u001b[0mint\u001b[0m\u001b[0;34m,\u001b[0m \u001b[0mfds_to_keep\u001b[0m\u001b[0;34m)\u001b[0m\u001b[0;34m)\u001b[0m\u001b[0;34m)\u001b[0m\u001b[0;34m,\u001b[0m\u001b[0;34m\u001b[0m\u001b[0;34m\u001b[0m\u001b[0m\n",
            "\u001b[0;31mKeyboardInterrupt\u001b[0m: "
          ]
        }
      ],
      "source": [
        "! pip install kaggle\n",
        "! mkdir ~/.kaggle\n",
        "! cp kaggle.json ~/.kaggle/\n",
        "! chmod 600 ~/.kaggle/kaggle.json\n",
        "! kaggle datasets download -d iarunava/cell-images-for-detecting-malaria\n",
        "! unzip /content/cell-images-for-detecting-malaria.zip"
      ]
    },
    {
      "cell_type": "code",
      "execution_count": null,
      "metadata": {
        "id": "dT5kqdTAcZgG"
      },
      "outputs": [],
      "source": [
        "train_datagen = ImageDataGenerator(\n",
        "    rescale = 1./255,\n",
        "    rotation_range=30,\n",
        "    width_shift_range = 0.2,\n",
        "    height_shift_range = 0.2,\n",
        "    horizontal_flip = True,\n",
        "    zoom_range = 0.2,\n",
        "    validation_split  = 0.2)\n",
        "test_datagen = ImageDataGenerator(rescale = 1./255)"
      ]
    },
    {
      "cell_type": "code",
      "execution_count": null,
      "metadata": {
        "id": "b-4IzrhJcjWM"
      },
      "outputs": [],
      "source": [
        "batch_size = 32\n",
        "weight,height = 64, 64"
      ]
    },
    {
      "cell_type": "code",
      "execution_count": null,
      "metadata": {
        "colab": {
          "base_uri": "https://localhost:8080/"
        },
        "id": "itLvARPCce3O",
        "outputId": "a4976079-0064-44a1-d99e-92044a28f887"
      },
      "outputs": [
        {
          "name": "stdout",
          "output_type": "stream",
          "text": [
            "Found 22048 images belonging to 2 classes.\n",
            "Found 5510 images belonging to 2 classes.\n",
            "Found 27558 images belonging to 2 classes.\n"
          ]
        }
      ],
      "source": [
        "train_data = train_datagen.flow_from_directory(\n",
        "    directory = '/content/cell_images/test',\n",
        "    target_size = (weight,height),\n",
        "    batch_size = batch_size,\n",
        "    class_mode = 'binary',\n",
        "    subset = 'training'\n",
        "    )\n",
        "valid_data = train_datagen.flow_from_directory(\n",
        "    directory = '/content/cell_images/test',\n",
        "    target_size = (weight,height),\n",
        "    batch_size = batch_size,\n",
        "    class_mode = 'binary',\n",
        "    subset = 'validation'\n",
        ")\n",
        "test_data = test_datagen.flow_from_directory(\n",
        "    directory = '/content/cell_images/train',\n",
        "    class_mode = 'binary',\n",
        "    batch_size = batch_size,\n",
        "    target_size = (weight,height)\n",
        ")"
      ]
    },
    {
      "cell_type": "code",
      "execution_count": null,
      "metadata": {
        "id": "coq8qIppciEy",
        "colab": {
          "base_uri": "https://localhost:8080/",
          "height": 235
        },
        "outputId": "97f0c71b-da5d-405c-b070-7e2235a6dc32"
      },
      "outputs": [
        {
          "output_type": "error",
          "ename": "NameError",
          "evalue": "ignored",
          "traceback": [
            "\u001b[0;31m---------------------------------------------------------------------------\u001b[0m",
            "\u001b[0;31mNameError\u001b[0m                                 Traceback (most recent call last)",
            "\u001b[0;32m<ipython-input-1-0921214af063>\u001b[0m in \u001b[0;36m<module>\u001b[0;34m\u001b[0m\n\u001b[0;32m----> 1\u001b[0;31m \u001b[0mmodel\u001b[0m \u001b[0;34m=\u001b[0m \u001b[0mSequential\u001b[0m\u001b[0;34m(\u001b[0m\u001b[0;34m)\u001b[0m\u001b[0;34m\u001b[0m\u001b[0;34m\u001b[0m\u001b[0m\n\u001b[0m\u001b[1;32m      2\u001b[0m \u001b[0;34m\u001b[0m\u001b[0m\n\u001b[1;32m      3\u001b[0m \u001b[0mmodel\u001b[0m\u001b[0;34m.\u001b[0m\u001b[0madd\u001b[0m\u001b[0;34m(\u001b[0m\u001b[0mConv2D\u001b[0m\u001b[0;34m(\u001b[0m\u001b[0;36m32\u001b[0m\u001b[0;34m,\u001b[0m \u001b[0;34m(\u001b[0m\u001b[0;36m3\u001b[0m\u001b[0;34m,\u001b[0m\u001b[0;36m3\u001b[0m\u001b[0;34m)\u001b[0m\u001b[0;34m,\u001b[0m \u001b[0minput_shape\u001b[0m \u001b[0;34m=\u001b[0m \u001b[0;34m(\u001b[0m\u001b[0mweight\u001b[0m\u001b[0;34m,\u001b[0m\u001b[0mheight\u001b[0m\u001b[0;34m,\u001b[0m\u001b[0;36m3\u001b[0m\u001b[0;34m)\u001b[0m\u001b[0;34m,\u001b[0m \u001b[0mpadding\u001b[0m \u001b[0;34m=\u001b[0m \u001b[0;34m'same'\u001b[0m\u001b[0;34m,\u001b[0m \u001b[0mactivation\u001b[0m \u001b[0;34m=\u001b[0m \u001b[0;34m'relu'\u001b[0m\u001b[0;34m)\u001b[0m\u001b[0;34m)\u001b[0m\u001b[0;34m\u001b[0m\u001b[0;34m\u001b[0m\u001b[0m\n\u001b[1;32m      4\u001b[0m \u001b[0mmodel\u001b[0m\u001b[0;34m.\u001b[0m\u001b[0madd\u001b[0m\u001b[0;34m(\u001b[0m\u001b[0mMaxPooling2D\u001b[0m\u001b[0;34m(\u001b[0m\u001b[0;34m(\u001b[0m\u001b[0;36m2\u001b[0m\u001b[0;34m,\u001b[0m\u001b[0;36m2\u001b[0m\u001b[0;34m)\u001b[0m\u001b[0;34m,\u001b[0m \u001b[0mstrides\u001b[0m \u001b[0;34m=\u001b[0m \u001b[0;34m(\u001b[0m\u001b[0;36m2\u001b[0m\u001b[0;34m,\u001b[0m\u001b[0;36m2\u001b[0m\u001b[0;34m)\u001b[0m\u001b[0;34m)\u001b[0m\u001b[0;34m)\u001b[0m\u001b[0;34m\u001b[0m\u001b[0;34m\u001b[0m\u001b[0m\n\u001b[1;32m      5\u001b[0m \u001b[0mmodel\u001b[0m\u001b[0;34m.\u001b[0m\u001b[0madd\u001b[0m\u001b[0;34m(\u001b[0m\u001b[0mDropout\u001b[0m\u001b[0;34m(\u001b[0m\u001b[0;36m0.2\u001b[0m\u001b[0;34m)\u001b[0m\u001b[0;34m)\u001b[0m\u001b[0;34m\u001b[0m\u001b[0;34m\u001b[0m\u001b[0m\n",
            "\u001b[0;31mNameError\u001b[0m: name 'Sequential' is not defined"
          ]
        }
      ],
      "source": [
        "model = Sequential()\n",
        "\n",
        "model.add(Conv2D(32, (3,3), input_shape = (weight,height,3), padding = 'same', activation = 'relu'))\n",
        "model.add(MaxPooling2D((2,2), strides = (2,2)))\n",
        "model.add(Dropout(0.2))\n",
        "\n",
        "model.add(Conv2D(64, (3,3), padding = 'same', activation = 'relu'))\n",
        "model.add(MaxPooling2D((2,2), strides = (2,2)))\n",
        "model.add(Dropout(0.2))\n",
        "\n",
        "model.add(Conv2D(128, (3,3), padding = 'same', activation = 'relu'))\n",
        "model.add(MaxPooling2D((2,2), strides = (2,2)))\n",
        "model.add(Dropout(0.3))\n",
        "\n",
        "model.add(Flatten())\n",
        "model.add(Dense(128, activation = 'relu'))\n",
        "model.add(Dropout(0.5))\n",
        "\n",
        "model.add(Dense(1, activation = 'sigmoid'))"
      ]
    },
    {
      "cell_type": "code",
      "execution_count": null,
      "metadata": {
        "colab": {
          "base_uri": "https://localhost:8080/"
        },
        "id": "DKfbf6d7cocy",
        "outputId": "3e716882-18a4-4c65-f58d-d8bcc2580f74"
      },
      "outputs": [
        {
          "output_type": "stream",
          "name": "stdout",
          "text": [
            "Model: \"sequential_10\"\n",
            "_________________________________________________________________\n",
            " Layer (type)                Output Shape              Param #   \n",
            "=================================================================\n",
            " conv2d_30 (Conv2D)          (None, 64, 64, 32)        896       \n",
            "                                                                 \n",
            " max_pooling2d_30 (MaxPoolin  (None, 32, 32, 32)       0         \n",
            " g2D)                                                            \n",
            "                                                                 \n",
            " dropout_40 (Dropout)        (None, 32, 32, 32)        0         \n",
            "                                                                 \n",
            " conv2d_31 (Conv2D)          (None, 32, 32, 64)        18496     \n",
            "                                                                 \n",
            " max_pooling2d_31 (MaxPoolin  (None, 16, 16, 64)       0         \n",
            " g2D)                                                            \n",
            "                                                                 \n",
            " dropout_41 (Dropout)        (None, 16, 16, 64)        0         \n",
            "                                                                 \n",
            " conv2d_32 (Conv2D)          (None, 16, 16, 128)       73856     \n",
            "                                                                 \n",
            " max_pooling2d_32 (MaxPoolin  (None, 8, 8, 128)        0         \n",
            " g2D)                                                            \n",
            "                                                                 \n",
            " dropout_42 (Dropout)        (None, 8, 8, 128)         0         \n",
            "                                                                 \n",
            " flatten_10 (Flatten)        (None, 8192)              0         \n",
            "                                                                 \n",
            " dense_20 (Dense)            (None, 128)               1048704   \n",
            "                                                                 \n",
            " dropout_43 (Dropout)        (None, 128)               0         \n",
            "                                                                 \n",
            " dense_21 (Dense)            (None, 1)                 129       \n",
            "                                                                 \n",
            "=================================================================\n",
            "Total params: 1,142,081\n",
            "Trainable params: 1,142,081\n",
            "Non-trainable params: 0\n",
            "_________________________________________________________________\n"
          ]
        }
      ],
      "source": [
        "model.summary()"
      ]
    },
    {
      "cell_type": "code",
      "execution_count": null,
      "metadata": {
        "id": "rOqKGLkBcqkc"
      },
      "outputs": [],
      "source": [
        "opt = Adam(learning_rate= 0.001)\n",
        "model.compile(\n",
        "    metrics = ['accuracy'],\n",
        "    optimizer = opt,\n",
        "    loss = 'binary_crossentropy'\n",
        ")"
      ]
    },
    {
      "cell_type": "code",
      "execution_count": null,
      "metadata": {
        "colab": {
          "base_uri": "https://localhost:8080/"
        },
        "id": "HEpZ2IBtcyWt",
        "outputId": "c59c6ea4-ce1b-4021-aa6d-af46d58a28db"
      },
      "outputs": [
        {
          "output_type": "stream",
          "name": "stdout",
          "text": [
            "Epoch 1/10\n",
            "689/689 [==============================] - 176s 254ms/step - loss: 0.3360 - accuracy: 0.8691 - val_loss: 0.2518 - val_accuracy: 0.9176\n",
            "Epoch 2/10\n",
            "689/689 [==============================] - 180s 261ms/step - loss: 0.2325 - accuracy: 0.9219 - val_loss: 0.2218 - val_accuracy: 0.9223\n",
            "Epoch 3/10\n",
            "689/689 [==============================] - 174s 253ms/step - loss: 0.2210 - accuracy: 0.9283 - val_loss: 0.2144 - val_accuracy: 0.9218\n",
            "Epoch 4/10\n",
            "689/689 [==============================] - 180s 261ms/step - loss: 0.2064 - accuracy: 0.9344 - val_loss: 0.2035 - val_accuracy: 0.9252\n",
            "Epoch 5/10\n",
            "689/689 [==============================] - 179s 260ms/step - loss: 0.2041 - accuracy: 0.9362 - val_loss: 0.1984 - val_accuracy: 0.9272\n",
            "Epoch 6/10\n",
            "689/689 [==============================] - 174s 252ms/step - loss: 0.2053 - accuracy: 0.9360 - val_loss: 0.1985 - val_accuracy: 0.9289\n",
            "Epoch 7/10\n",
            "689/689 [==============================] - 175s 255ms/step - loss: 0.1943 - accuracy: 0.9376 - val_loss: 0.1837 - val_accuracy: 0.9348\n",
            "Epoch 8/10\n",
            "689/689 [==============================] - 180s 261ms/step - loss: 0.1938 - accuracy: 0.9365 - val_loss: 0.2017 - val_accuracy: 0.9332\n",
            "Epoch 9/10\n",
            "689/689 [==============================] - 174s 252ms/step - loss: 0.1959 - accuracy: 0.9367 - val_loss: 0.2131 - val_accuracy: 0.9287\n",
            "Epoch 10/10\n",
            "689/689 [==============================] - 176s 256ms/step - loss: 0.1849 - accuracy: 0.9402 - val_loss: 0.2011 - val_accuracy: 0.9310\n"
          ]
        }
      ],
      "source": [
        "early_stop = EarlyStopping(monitor = 'val_accuracy', patience = 5, mode = 'max')\n",
        "train_attempt = model.fit(train_data, epochs = 10, validation_data = valid_data, callbacks=[early_stop])"
      ]
    },
    {
      "cell_type": "code",
      "execution_count": null,
      "metadata": {
        "id": "48ZBdj1oc2J5",
        "colab": {
          "base_uri": "https://localhost:8080/"
        },
        "outputId": "d99ccf0b-c0ff-4215-e94d-7cdeff1c531f"
      },
      "outputs": [
        {
          "output_type": "stream",
          "name": "stdout",
          "text": [
            "862/862 [==============================] - 40s 46ms/step - loss: 0.1643 - accuracy: 0.9538\n"
          ]
        }
      ],
      "source": [
        "test_loss, test_acc = model.evaluate(test_data)"
      ]
    },
    {
      "cell_type": "code",
      "execution_count": null,
      "metadata": {
        "id": "qtzMIpryc4wS",
        "colab": {
          "base_uri": "https://localhost:8080/",
          "height": 573
        },
        "outputId": "f6637c3d-a22d-4b82-bb16-817a9168947c"
      },
      "outputs": [
        {
          "output_type": "display_data",
          "data": {
            "text/plain": [
              "<Figure size 432x288 with 1 Axes>"
            ],
            "image/png": "[encoded data removed]"
          },
          "metadata": {
            "needs_background": "light"
          }
        },
        {
          "output_type": "display_data",
          "data": {
            "text/plain": [
              "<Figure size 432x288 with 1 Axes>"
            ],
            "image/png": "[encoded data removed]"
          },
          "metadata": {
            "needs_background": "light"
          }
        }
      ],
      "source": [
        "plt.plot(train_attempt.history[\"accuracy\"])\n",
        "plt.plot(train_attempt.history[\"val_accuracy\"])\n",
        "plt.title(\"Accuracy of model\")\n",
        "plt.ylabel(\"Accuracy\")\n",
        "plt.xlabel(\"Epoch\")\n",
        "plt.legend([\"Train\",\"Valid\"],loc=\"upper left\")\n",
        "plt.show()\n",
        "\n",
        "plt.plot(train_attempt.history[\"loss\"])\n",
        "plt.plot(train_attempt.history[\"val_loss\"])\n",
        "plt.title(\"Model loss\")\n",
        "plt.ylabel(\"loss\")\n",
        "plt.xlabel(\"Epoch\")\n",
        "plt.legend([\"Train\",\"Valid\"],loc=\"upper left\")\n",
        "plt.show()"
      ]
    },
    {
      "cell_type": "markdown",
      "source": [
        "Таким образом, построенная модель классифицирует на две категории изображения с точностью ~ 0.925 - значит из 100 случаев будем получать 92-93 раз верно классифицированные категории\n",
        "\n",
        "В качестве метрики точности была выбрана accurancy (доля верно классифицированных категорий/общее кол-во категорий)\n",
        "\n",
        "На выходе применяется функция сигмоидная функция активации\n",
        "На каждый слой, кроме выходного, используется функция активации relu"
      ],
      "metadata": {
        "id": "wIEWy9ghiwbc"
      }
    },
    {
      "cell_type": "code",
      "source": [],
      "metadata": {
        "id": "Ud1joLBzjOKb"
      },
      "execution_count": null,
      "outputs": []
    }
  ],
  "metadata": {
    "colab": {
      "provenance": [],
      "authorship_tag": "ABX9TyPldTyO6oHSJ9Pv3NcQVmxT",
      "include_colab_link": true
    },
    "kernelspec": {
      "display_name": "Python 3",
      "name": "python3"
    },
    "language_info": {
      "name": "python"
    }
  },
  "nbformat": 4,
  "nbformat_minor": 0
}